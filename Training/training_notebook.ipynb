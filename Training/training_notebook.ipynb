{
 "cells": [
  {
   "cell_type": "code",
   "execution_count": 13,
   "id": "7fdb0445",
   "metadata": {},
   "outputs": [
    {
     "name": "stdout",
     "output_type": "stream",
     "text": [
      "\n",
      "✅ Model Performance (Regression + Custom Accuracy):\n",
      "                                MSE  R2 Score  Accuracy (±0.05 tolerance)\n",
      "Random Forest Regressor      0.0011    0.9121                       92.13\n",
      "Gradient Boosting Regressor  0.0011    0.9119                       91.12\n",
      "Linear Regression            0.0020    0.8303                       82.74\n",
      "AdaBoost Regressor           0.0028    0.7681                       64.47\n",
      "Support Vector Regression    0.0032    0.7328                       52.54\n"
     ]
    }
   ],
   "source": [
    "# ✅ University Recommendation System - Regression Model Training with Accuracy-like Metric\n",
    "\n",
    "import pandas as pd\n",
    "import numpy as np\n",
    "from sklearn.model_selection import train_test_split\n",
    "from sklearn.linear_model import LinearRegression\n",
    "from sklearn.svm import SVR\n",
    "from sklearn.ensemble import RandomForestRegressor, AdaBoostRegressor, GradientBoostingRegressor\n",
    "from sklearn.metrics import mean_squared_error, r2_score\n",
    "\n",
    "# Step 1: Load Data\n",
    "df = pd.read_csv('../Data/preprocessed_data.csv')\n",
    "\n",
    "# Step 2: Features and Target\n",
    "X = df[['GRE_Score', 'TOEFL_Score', 'University_Rating', 'SOP', 'LOR', 'CGPA', 'Research']]\n",
    "y = df['Chance_of_Admit']\n",
    "\n",
    "# Step 3: Split\n",
    "X_train, X_test, y_train, y_test = train_test_split(X, y, test_size=0.2, random_state=42)\n",
    "\n",
    "# Step 4: Models\n",
    "models = {\n",
    "    'Linear Regression': LinearRegression(),\n",
    "    'Support Vector Regression': SVR(kernel='rbf'),\n",
    "    'Random Forest Regressor': RandomForestRegressor(n_estimators=100, random_state=42),\n",
    "    'AdaBoost Regressor': AdaBoostRegressor(n_estimators=100, random_state=42),\n",
    "    'Gradient Boosting Regressor': GradientBoostingRegressor(n_estimators=100, random_state=42)\n",
    "}\n",
    "\n",
    "# Step 5: Train, Evaluate, Custom Accuracy\n",
    "results = {}\n",
    "\n",
    "for name, model in models.items():\n",
    "    model.fit(X_train, y_train)\n",
    "    y_pred = model.predict(X_test)\n",
    "    \n",
    "    mse = mean_squared_error(y_test, y_pred)\n",
    "    r2 = r2_score(y_test, y_pred)\n",
    "    \n",
    "    # Custom Accuracy: % of predictions within ±0.05 of true value\n",
    "    tolerance = 0.05\n",
    "    accuracy_within_tolerance = np.mean(np.abs(y_pred - y_test) <= tolerance)\n",
    "    \n",
    "    results[name] = {\n",
    "        'MSE': round(mse, 4),\n",
    "        'R2 Score': round(r2, 4),\n",
    "        'Accuracy (±0.05 tolerance)': round(accuracy_within_tolerance * 100, 2)\n",
    "    }\n",
    "\n",
    "# Step 6: Display\n",
    "results_df = pd.DataFrame(results).T.sort_values(by='R2 Score', ascending=False)\n",
    "print(\"\\n✅ Model Performance (Regression + Custom Accuracy):\")\n",
    "print(results_df)\n"
   ]
  }
 ],
 "metadata": {
  "kernelspec": {
   "display_name": "university_env",
   "language": "python",
   "name": "python3"
  },
  "language_info": {
   "codemirror_mode": {
    "name": "ipython",
    "version": 3
   },
   "file_extension": ".py",
   "mimetype": "text/x-python",
   "name": "python",
   "nbconvert_exporter": "python",
   "pygments_lexer": "ipython3",
   "version": "3.10.18"
  }
 },
 "nbformat": 4,
 "nbformat_minor": 5
}
