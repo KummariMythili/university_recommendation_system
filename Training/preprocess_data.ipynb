{
 "cells": [
  {
   "cell_type": "code",
   "execution_count": null,
   "id": "f3feb016",
   "metadata": {},
   "outputs": [
    {
     "name": "stdout",
     "output_type": "stream",
     "text": [
      "✅ Preprocessing done. Scaler saved.\n"
     ]
    }
   ],
   "source": [
    "\n",
    "#import Required Libraries\n",
    "import pandas as pd\n",
    "from sklearn.preprocessing import StandardScaler\n",
    "import joblib\n",
    "\n",
    "# Load Data\n",
    "df = pd.read_csv('../Data/your_dataset.csv', on_bad_lines='skip')\n",
    "\n",
    "df.rename(columns={\n",
    "    'Serial No.': 'l',\n",
    "    'GRE Score': 'GRE_Score',\n",
    "    'TOEFL Score': 'TOEFL_Score',\n",
    "    'University Rating': 'University_Rating',\n",
    "    'SOP': 'SOP',\n",
    "    'LOR ': 'LOR',\n",
    "    'CGPA': 'CGPA',\n",
    "    'Research': 'Research',\n",
    "    'Chance of Admit ': 'Chance_of_Admit'\n",
    "}, inplace=True)\n",
    "\n",
    "df.dropna(how='all', inplace=True)\n",
    "df.fillna(method='ffill', inplace=True)\n",
    "\n",
    "# Feature Scaling\n",
    "features_to_scale = ['GRE_Score', 'TOEFL_Score', 'University_Rating', 'SOP', 'LOR', 'CGPA', 'Research']\n",
    "scaler = StandardScaler()\n",
    "df[features_to_scale] = scaler.fit_transform(df[features_to_scale])\n",
    "\n",
    "# Save preprocessed data\n",
    "df.to_csv('../Data/preprocessed_data.csv', index=False)\n",
    "\n",
    "# ✅ Save the scaler for Flask\n",
    "joblib.dump(scaler, '../App/model/scaler.pkl')\n",
    "\n",
    "print(\"✅ Preprocessing done. Scaler saved.\")\n"
   ]
  }
 ],
 "metadata": {
  "kernelspec": {
   "display_name": "university_env",
   "language": "python",
   "name": "python3"
  },
  "language_info": {
   "codemirror_mode": {
    "name": "ipython",
    "version": 3
   },
   "file_extension": ".py",
   "mimetype": "text/x-python",
   "name": "python",
   "nbconvert_exporter": "python",
   "pygments_lexer": "ipython3",
   "version": "3.10.18"
  }
 },
 "nbformat": 4,
 "nbformat_minor": 5
}
