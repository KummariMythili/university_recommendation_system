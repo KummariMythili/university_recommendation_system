{
 "cells": [
  {
   "cell_type": "code",
   "execution_count": 6,
   "id": "fd5cdf41",
   "metadata": {},
   "outputs": [
    {
     "name": "stdout",
     "output_type": "stream",
     "text": [
      "✅ Best model (Random Forest Regressor) saved successfully as '../App/model/model.pkl'\n"
     ]
    }
   ],
   "source": [
    "# ✅ University Recommendation System - Best Model Saving (Random Forest Regressor)\n",
    "\n",
    "import pandas as pd\n",
    "import joblib\n",
    "from sklearn.model_selection import train_test_split\n",
    "from sklearn.ensemble import RandomForestRegressor\n",
    "\n",
    "# Step 1: Load Preprocessed Data\n",
    "df = pd.read_csv('../Data/preprocessed_data.csv')\n",
    "\n",
    "# Step 2: Split Features and Target\n",
    "X = df[['GRE_Score', 'TOEFL_Score', 'University_Rating', 'SOP', 'LOR', 'CGPA', 'Research']]\n",
    "y = df['Chance_of_Admit']\n",
    "\n",
    "# Step 3: Train-Test Split\n",
    "X_train, X_test, y_train, y_test = train_test_split(X, y, test_size=0.2, random_state=42)\n",
    "\n",
    "# Step 4: Initialize & Train Random Forest Regressor\n",
    "best_model = RandomForestRegressor(n_estimators=100, random_state=42)\n",
    "best_model.fit(X_train, y_train)\n",
    "\n",
    "# Step 5: Save the Model as model.pkl\n",
    "joblib.dump(best_model, '../App/model/model.pkl')\n",
    "\n",
    "print(\"✅ Best model (Random Forest Regressor) saved successfully as '../App/model/model.pkl'\")\n"
   ]
  }
 ],
 "metadata": {
  "kernelspec": {
   "display_name": "university_env",
   "language": "python",
   "name": "python3"
  },
  "language_info": {
   "codemirror_mode": {
    "name": "ipython",
    "version": 3
   },
   "file_extension": ".py",
   "mimetype": "text/x-python",
   "name": "python",
   "nbconvert_exporter": "python",
   "pygments_lexer": "ipython3",
   "version": "3.10.18"
  }
 },
 "nbformat": 4,
 "nbformat_minor": 5
}
