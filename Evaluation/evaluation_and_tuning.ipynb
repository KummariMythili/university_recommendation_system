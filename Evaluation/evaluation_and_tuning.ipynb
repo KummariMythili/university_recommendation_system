{
 "cells": [
  {
   "cell_type": "code",
   "execution_count": 5,
   "id": "323aa1f9",
   "metadata": {},
   "outputs": [
    {
     "name": "stdout",
     "output_type": "stream",
     "text": [
      "Fitting 5 folds for each of 27 candidates, totalling 135 fits\n",
      "✅ Best Parameters: {'max_depth': None, 'min_samples_split': 2, 'n_estimators': 300}\n",
      "✅ Fine-Tuned Random Forest R² Score: 0.9152\n",
      "✅ Fine-Tuned Random Forest MSE: 0.001\n",
      "✅ Fine-tuned Random Forest model saved as '../App/model/fine_tune.pkl'\n"
     ]
    }
   ],
   "source": [
    "# ✅ University Recommendation System - Evaluation and Fine-Tuning (Random Forest Regressor)\n",
    "\n",
    "import pandas as pd\n",
    "import numpy as np\n",
    "import joblib\n",
    "from sklearn.ensemble import RandomForestRegressor\n",
    "from sklearn.model_selection import train_test_split, GridSearchCV\n",
    "from sklearn.metrics import mean_squared_error, r2_score\n",
    "\n",
    "# Step 1: Load Preprocessed Data\n",
    "df = pd.read_csv('../Data/preprocessed_data.csv')\n",
    "\n",
    "X = df[['GRE_Score', 'TOEFL_Score', 'University_Rating', 'SOP', 'LOR', 'CGPA', 'Research']]\n",
    "y = df['Chance_of_Admit']\n",
    "\n",
    "X_train, X_test, y_train, y_test = train_test_split(X, y, test_size=0.2, random_state=42)\n",
    "\n",
    "# Step 2: Define Base Model\n",
    "rf = RandomForestRegressor(random_state=42)\n",
    "\n",
    "# Step 3: Define Hyperparameter Grid for Random Forest\n",
    "param_grid = {\n",
    "    'n_estimators': [100, 200, 300],\n",
    "    'max_depth': [None, 5, 10],\n",
    "    'min_samples_split': [2, 5, 10]\n",
    "}\n",
    "\n",
    "# Step 4: GridSearchCV for Hyperparameter Tuning\n",
    "grid_search = GridSearchCV(estimator=rf, param_grid=param_grid,\n",
    "                           cv=5, n_jobs=-1, scoring='r2', verbose=2)\n",
    "\n",
    "grid_search.fit(X_train, y_train)\n",
    "\n",
    "# Step 5: Evaluate Best Model\n",
    "best_rf_model = grid_search.best_estimator_\n",
    "y_pred = best_rf_model.predict(X_test)\n",
    "\n",
    "mse = mean_squared_error(y_test, y_pred)\n",
    "r2 = r2_score(y_test, y_pred)\n",
    "\n",
    "print(f\"✅ Best Parameters: {grid_search.best_params_}\")\n",
    "print(f\"✅ Fine-Tuned Random Forest R² Score: {round(r2, 4)}\")\n",
    "print(f\"✅ Fine-Tuned Random Forest MSE: {round(mse, 4)}\")\n",
    "\n",
    "# Step 6: Save Fine-Tuned Model as fine_tune.pkl\n",
    "joblib.dump(best_rf_model, '../App/model/fine_tune.pkl')\n",
    "\n",
    "print(\"✅ Fine-tuned Random Forest model saved as '../App/model/fine_tune.pkl'\")\n"
   ]
  }
 ],
 "metadata": {
  "kernelspec": {
   "display_name": "university_env",
   "language": "python",
   "name": "python3"
  },
  "language_info": {
   "codemirror_mode": {
    "name": "ipython",
    "version": 3
   },
   "file_extension": ".py",
   "mimetype": "text/x-python",
   "name": "python",
   "nbconvert_exporter": "python",
   "pygments_lexer": "ipython3",
   "version": "3.10.18"
  }
 },
 "nbformat": 4,
 "nbformat_minor": 5
}
